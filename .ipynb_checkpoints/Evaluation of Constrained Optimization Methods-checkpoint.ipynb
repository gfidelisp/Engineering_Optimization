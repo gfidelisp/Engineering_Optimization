{
 "cells": [
  {
   "cell_type": "markdown",
   "id": "44304ee3",
   "metadata": {},
   "source": [
    "Otimização em Projeto Mecânico - Atividade 3"
   ]
  },
  {
   "cell_type": "markdown",
   "id": "2a603084",
   "metadata": {},
   "source": [
    "#### Importando os módulos utilizados no programa"
   ]
  },
  {
   "cell_type": "code",
   "execution_count": 1,
   "id": "7d089c42",
   "metadata": {},
   "outputs": [],
   "source": [
    "import numpy as np\n",
    "import matplotlib.pyplot as plt\n",
    "\n",
    "plt.rcParams.update({\n",
    "    \"text.usetex\": True,\n",
    "    \"font.family\": \"sans-serif\",\n",
    "    \"font.sans-serif\": [\"Helvetica\"]})"
   ]
  },
  {
   "cell_type": "markdown",
   "id": "dabd747b",
   "metadata": {},
   "source": [
    "#### Código para a busca na linha pelo Critério de Armijo"
   ]
  },
  {
   "cell_type": "code",
   "execution_count": 2,
   "id": "b6ab3319",
   "metadata": {},
   "outputs": [],
   "source": [
    "# -------------------------------------------------------------------\n",
    "# METODO: LSArmijo\n",
    "# Armijo Criterion for Line Search\n",
    "# -------------------------------------------------------------------\n",
    "\n",
    "def LSArmijo(Fnome, X, d,g):\n",
    "    rho1 = 0.85\n",
    "    rho2 = 0.15\n",
    "    nUP = 2          # coefficient for interval increment\n",
    "    ndown = 0.7      # coefficient for backtracking\n",
    "    \n",
    "    g0 = g           # f'(0)\n",
    "    f0 = Fnome(X)    # f(0)\n",
    "    s = 2          # Initial Step value\n",
    "    \n",
    "    Xs  = X + s*d     # X(s)\n",
    "    fXs = Fnome(Xs)   # f(Xs) \n",
    "    \n",
    "    #DENTRO DA condição (9.4)livro do ARORA\n",
    "    data = []\n",
    "    gfd = np.dot(np.array(g0).T,d)\n",
    "    i = 0\n",
    "    if gfd > 0:\n",
    "        print('No descent direction')\n",
    "\n",
    "    while fXs <= f0 + s*rho1*np.dot(np.array(g0),d):\n",
    "        s = nUP*s\n",
    "        Xs = X + s*d\n",
    "        fXs = Fnome(Xs)\n",
    "        i=i+1\n",
    "    \n",
    "    while fXs > f0 + s*rho2*np.dot(np.array(g0),d):\n",
    "        if s < 5*10**-2:\n",
    "            s = 5*10**-2\n",
    "            break\n",
    "        s = ndown*s\n",
    "        Xs = X+s*d\n",
    "        fXs = Fnome(Xs)\n",
    "        i=i+1\n",
    "    \n",
    "    return s, Xs, i"
   ]
  },
  {
   "cell_type": "markdown",
   "id": "c5c97add",
   "metadata": {},
   "source": [
    "#### Método de Busca de Direção\n",
    "\n",
    "Na função:\n",
    "- Type = Type of algorithm: 0=Gradient; 1=Newton; 2=Quasi Newton\n",
    "- LS = Line Search Algortihm: 0=Armijo; 1=Golden Search; 2=Quadratic Approximation"
   ]
  },
  {
   "cell_type": "code",
   "execution_count": 3,
   "id": "932392a8",
   "metadata": {},
   "outputs": [],
   "source": [
    "#-------------------------------------------------------------------\n",
    "# [X,f,g] = Newton (Fnome, Gnome, Hnome, X0, Type)\n",
    "# X = Optimal solution\n",
    "# f = Optimal value of objective function\n",
    "# g = Optimal value of gradient of objective function\n",
    "# Fnome = name of objective function f = Fnome(X0)\n",
    "# Gnome = name of gradient of objective function g = Gnome(X0)\n",
    "# Hnome = name of Hessian of objective function h = Hnome(X0)\n",
    "# X0 = Initial point\n",
    "# Type = Type of algorithm: 0=Gradient; 1=Newton; 2=BFGS; 3=DFP; 4=Gradiente Conjugado\n",
    "\n",
    "# -------------------------------------------------------------------\n",
    "\n",
    "# LS\n",
    "\n",
    "def QNewton(Fnome, Gnome, X0, Type,LS,Silent = False):\n",
    "    \n",
    "    # Maximum iteration number\n",
    "    NIter = 100000;\n",
    "\n",
    "    # Gradient of cost function at X0\n",
    "    g0 = Gnome(X0)\n",
    "    \n",
    "    #Convergence test at X0\n",
    "    Epsilon  = 1.e-8*np.linalg.norm(g0)\n",
    "    if np.linalg.norm(g0) < Epsilon:\n",
    "        return \n",
    "    \n",
    "    #Inicialization\n",
    "    X = X0\n",
    "    dim = np.size(X)\n",
    "    H = np.identity(dim)\n",
    "    g = Gnome(X)\n",
    "    count = 0\n",
    "    points = []\n",
    "    it_line = 0\n",
    "    \n",
    "    #Iterations\n",
    "    for i in range(NIter):\n",
    "        \n",
    "        \n",
    "        Inv = False\n",
    "        eps = 0.1\n",
    "        Theta = 0.001\n",
    "        Beta = 0.001\n",
    "        if Type == 0 or Type == 1 or Type == 2:\n",
    "            while Inv == False:\n",
    "                try:\n",
    "                    d = -np.dot(np.linalg.inv(H),g)\n",
    "                    if np.dot(g,d) >= -Theta*np.linalg.norm(g)*np.linalg.norm(d):\n",
    "                        H = H + eps*np.identity(dim)\n",
    "                        eps = 2*eps\n",
    "                    else:\n",
    "                        Inv = True\n",
    "                except:\n",
    "                    H = H + eps*np.identity(dim)\n",
    "                    eps = 2*eps\n",
    "                    \n",
    "        elif Type == 4:\n",
    "            if i ==0:\n",
    "                gx = g\n",
    "                d  = -np.dot(H,g)\n",
    "                d_ = d\n",
    "            else:\n",
    "                fac = (np.linalg.norm(g)/np.linalg.norm(gx))**2\n",
    "                d  = -np.dot(H,g) + fac*d_\n",
    "                d_ = d\n",
    "                gx = g\n",
    "            \n",
    "        elif Type == 3:\n",
    "            d = -np.dot(H,g)\n",
    "            if np.dot(g,d) >= -Theta*np.linalg.norm(g)*np.linalg.norm(d):\n",
    "                        H = H + eps*np.identity(dim)\n",
    "                        eps = 2*eps\n",
    "\n",
    "        if np.linalg.norm(d) < Beta*np.linalg.norm(g):\n",
    "            d = d/np.linalg.norm(d)*Beta*np.linalg.norm(g)\n",
    "\n",
    "        #Line Search\n",
    "        if LS == 0:\n",
    "            [s,X1,it_l] = LSArmijo(Fnome, X, d, g)\n",
    "        elif LS == 1:\n",
    "            [s,X1,it_l] = GldSrc(Fnome, X, d)\n",
    "        elif LS == 2:\n",
    "            [s,X1,it_l] = LSPolynomial(Fnome, X, d)\n",
    "        \n",
    "        it_line = it_line + it_l\n",
    "        \n",
    "        \n",
    "        #Convergence Verification\n",
    "        \n",
    "        f1 = Fnome(X1)\n",
    "        g1 = Gnome(X1)\n",
    "        \n",
    "        norma = (np.linalg.norm(g1))\n",
    "        \n",
    "        if norma < Epsilon:\n",
    "            print('Convergence OK!')\n",
    "            print(\"Descent Iteration number\", i)\n",
    "            print(\"Line Search Total Iteration number\", it_line)\n",
    "            print(\"f  =\" + str(f1) + \" Step = \" + str(s))\n",
    "            print(\"X  =\" + str(X1))\n",
    "            print(\"g/go  = \" + str(g1))\n",
    "            return (X1,f1,g1,i) \n",
    "      \n",
    "        if Type == 0:\n",
    "            #Gradient Descent\n",
    "            H = np.identity(dim)\n",
    "        elif Type == 1:\n",
    "            #Newton\n",
    "            H = Hnome(X1)\n",
    "            \n",
    "        elif Type == 2: \n",
    "            #if np.linalg.norm(g1 - g) != 0:\n",
    "                #BFGS\n",
    "            s_k = np.reshape(np.array([s*d]),(dim,1))\n",
    "            c_k = np.reshape(np.array([g]),(dim,1)) \n",
    "            c_k1 = np.reshape(np.array([g1]),(dim,1)) \n",
    "            y_k = np.reshape(np.array([g1- g]),(dim,1))\n",
    "\n",
    "            H1 = y_k@y_k.T/(y_k.T@s_k)\n",
    "            H2 = -(H@s_k@s_k.T@H)/(s_k.T@H@s_k)\n",
    "\n",
    "            Hk = H + H1 + H2\n",
    "            H = Hk\n",
    "            \n",
    "        elif Type == 3:\n",
    "            #DFP\n",
    "            s_k = np.reshape(np.array([s*d]),(dim,1))\n",
    "            y_k = np.reshape(np.array([g1- g]),(dim,1))\n",
    "            \n",
    "            Bk = (s_k@s_k.T)/(y_k.T@s_k)\n",
    "            #Ck = (-z_k@z_k.T)/(y_k@z_k)\n",
    "            Ck = -(H@y_k@y_k.T@H)/(y_k.T@H@y_k)\n",
    "            \n",
    "            Hk= H +Bk + Ck\n",
    "            H = Hk\n",
    "        \n",
    "        elif Type == 4:\n",
    "            #Gradiente Conjugado\n",
    "            pass \n",
    "\n",
    "        X = X1\n",
    "        g = g1\n",
    " \n",
    "    return (X,f1,g1,i)"
   ]
  },
  {
   "cell_type": "markdown",
   "id": "a2005ff9",
   "metadata": {},
   "source": [
    "# Formule o problema de treliças que está disponível no Moodle que consiste em maximizar a rigidez da estrutura de 3 barras para um volume máximo restrito de material utilizado Vmax = 300(L1 + L2 + L3) mm3: Formule o problema com penalização externa."
   ]
  },
  {
   "cell_type": "markdown",
   "id": "7695bd67",
   "metadata": {},
   "source": [
    "# Implemente as funções que retornam o valor da função penalizada e o seu gradiente. Resolva o problema usando alguma das técnicas implementadas para minimização sem restrições"
   ]
  },
  {
   "cell_type": "markdown",
   "id": "4a1402eb",
   "metadata": {},
   "source": [
    "#### Função Objetivo Penalizada"
   ]
  },
  {
   "cell_type": "code",
   "execution_count": 4,
   "id": "985e60e3",
   "metadata": {},
   "outputs": [],
   "source": [
    "def f_pen(x):\n",
    "        \n",
    "    k1 = x[0]*E/(2*L1)\n",
    "    k2 = x[1]*E/L2\n",
    "    k3 = x[2]*E/L3\n",
    "\n",
    "    K = np.array([[k1+k3, -k1  , -k1],[-k1  , k1+k2,  k1], [-k1  , k1   , k1 ]])\n",
    "    U = np.linalg.inv(K)@F\n",
    "\n",
    "    f = 0.5*F.T@U + rho/2*(max(0,(x[0]*L1 + x[1]*L2 + x[2]*L3 - V_max))**2\n",
    "                  + max(0,(-x[0]+A_01))**2\n",
    "                  + max(0,(-x[1]+A_02))**2\n",
    "                  + max(0,(-x[2]+A_03))**2\n",
    "                          )\n",
    "    \n",
    "    return f"
   ]
  },
  {
   "cell_type": "markdown",
   "id": "b9c08b87",
   "metadata": {},
   "source": [
    "#### Gradiente da Função Objetivo Penalizada"
   ]
  },
  {
   "cell_type": "code",
   "execution_count": 5,
   "id": "c5f76052",
   "metadata": {},
   "outputs": [],
   "source": [
    "def g_pen(x):\n",
    "    \n",
    "    k1 = x[0]*E/(2*L1)\n",
    "    k2 = x[1]*E/L2\n",
    "    k3 = x[2]*E/L3\n",
    "\n",
    "    K = np.array([[k1+k3, -k1  , -k1],[-k1  , k1+k2,  k1], [-k1  , k1   , k1 ]])\n",
    "    U = np.linalg.inv(K)@F\n",
    "\n",
    "    dK1 = E/(2*L1)*np.array([[1, -1  , -1],[-1  , 1,  1], [-1  , 1   , 1 ]])\n",
    "    dK2 = E/L2*np.array([[0,  0  ,  0],[ 0  , 1,  0], [ 0  , 0   , 0 ]])\n",
    "    dK3 = E/L3*np.array([[1,  0  ,  0],[ 0  , 0,  0], [ 0  , 0   , 0 ]])\n",
    "\n",
    "    gf = np.zeros(3)\n",
    "    \n",
    "\n",
    "    gf[0] = -(dK1@U).T@U + rho*(max(0,L1*(x[0]*L1 + x[1]*L2 + x[2]*L3 - V_max))\n",
    "    #gf[0] = F.T@np.linalg.inv(K)@(-(dK1@U)) + rho*(max(0,L1*(x[0]*L1 + x[1]*L2 + x[2]*L3 - V_max)) \n",
    "                                - max(0,(-x[0]+A_01))\n",
    "                               )\n",
    "    gf[1] = -(dK2@U).T@U + rho*(max(0,L2*(x[0]*L1 + x[1]*L2 + x[2]*L3 - V_max)) \n",
    "    #gf[1] = F.T@np.linalg.inv(K)@(-(dK2@U))+ rho*(max(0,L2*(x[0]*L1 + x[1]*L2 + x[2]*L3 - V_max)) \n",
    "                                - max(0,+(-x[1]+A_02))\n",
    "                               )\n",
    "    gf[2] = -(dK3@U).T@U + rho*(max(0,L3*(x[0]*L1 + x[1]*L2 + x[2]*L3 - V_max)) \n",
    "    #gf[2] = F.T@np.linalg.inv(K)@(-(dK3@U)) + rho*(max(0,L3*(x[0]*L1 + x[1]*L2 + x[2]*L3 - V_max)) \n",
    "                                - max(0,+(-x[2]+A_03))\n",
    "                               )\n",
    "\n",
    "    return gf.T"
   ]
  },
  {
   "cell_type": "markdown",
   "id": "4a76a109",
   "metadata": {},
   "source": [
    "#### Parâmetros Fixos"
   ]
  },
  {
   "cell_type": "code",
   "execution_count": 6,
   "id": "72972bea",
   "metadata": {},
   "outputs": [],
   "source": [
    "# Comprimento das barras da Treliça\n",
    "L1 = (1.5**2 + 1.5**2)**0.5*10**3\n",
    "L2 = 1.5*10**3\n",
    "L3 = 1.5*10**3\n",
    "\n",
    "# Módulo de Elasticidade \n",
    "E = 2*10**11*10**-6\n",
    "\n",
    "# Esforços Mecânicos\n",
    "F = np.array([[0,500,-500]]).T"
   ]
  },
  {
   "cell_type": "markdown",
   "id": "ff5463b0",
   "metadata": {},
   "source": [
    "#### Restrições do Problema"
   ]
  },
  {
   "cell_type": "code",
   "execution_count": 7,
   "id": "f72c1e66",
   "metadata": {},
   "outputs": [],
   "source": [
    "# Máximo Volume\n",
    "V_max = 3*10**-4*(L1+L2+L3)*10**6\n",
    "\n",
    "#Áreas Mínimas\n",
    "A_01 = 0\n",
    "A_02 = 0\n",
    "A_03 = 0"
   ]
  },
  {
   "cell_type": "code",
   "execution_count": 8,
   "id": "5b19194b",
   "metadata": {},
   "outputs": [],
   "source": [
    "#intial point\n",
    "x_init = 10**6*np.array([3*10**-4,3*10**-4,3*10**-4])"
   ]
  },
  {
   "cell_type": "markdown",
   "id": "c6e49e1a",
   "metadata": {},
   "source": [
    "#### Avaliação do Fator de Penalização"
   ]
  },
  {
   "cell_type": "code",
   "execution_count": 9,
   "id": "5a5431c9",
   "metadata": {},
   "outputs": [],
   "source": [
    "rho_vec = [10**-2,10**-3,10**-4,10**-5,10**-6,10**-7,10**-8,10**-9,10**-10,10**-11]"
   ]
  },
  {
   "cell_type": "code",
   "execution_count": 10,
   "id": "9db18d2c",
   "metadata": {},
   "outputs": [
    {
     "name": "stdout",
     "output_type": "stream",
     "text": [
      "O valor do Fator de Penalização é de 0.01\n",
      "\n",
      "O valor do Fator de Penalização é de 0.001\n",
      "Convergence OK!\n",
      "Descent Iteration number 12253\n",
      "Line Search Total Iteration number 133395\n",
      "f  =[[22.88228272]] Step = 0.16470859999999993\n",
      "X  =[289.7056331  409.70563543 204.85281771]\n",
      "g/go  = [3.01643072e-10 2.13261200e-10 2.13292189e-10]\n",
      "\n",
      "O valor do Fator de Penalização é de 0.0001\n",
      "Convergence OK!\n",
      "Descent Iteration number 3381\n",
      "Line Search Total Iteration number 36514\n",
      "f  =[[22.88228272]] Step = 0.08070721399999996\n",
      "X  =[289.70568365 409.70570692 204.85285346]\n",
      "g/go  = [-7.12946063e-10 -5.04113376e-10 -5.04124506e-10]\n",
      "\n",
      "O valor do Fator de Penalização é de 1e-05\n",
      "Convergence OK!\n",
      "Descent Iteration number 342\n",
      "Line Search Total Iteration number 3552\n",
      "f  =[[22.88228272]] Step = 0.05\n",
      "X  =[289.70618915 409.7064218  204.85321091]\n",
      "g/go  = [-7.31440436e-10 -5.16776628e-10 -5.12821612e-10]\n",
      "\n",
      "O valor do Fator de Penalização é de 1e-06\n",
      "Convergence OK!\n",
      "Descent Iteration number 367\n",
      "Line Search Total Iteration number 3734\n",
      "f  =[[22.88228271]] Step = 0.05\n",
      "X  =[289.71124394 409.71357037 204.8567852 ]\n",
      "g/go  = [-7.07288283e-10 -4.95141594e-10 -4.88112675e-10]\n",
      "\n",
      "O valor do Fator de Penalização é de 1e-07\n",
      "Convergence OK!\n",
      "Descent Iteration number 379\n",
      "Line Search Total Iteration number 3949\n",
      "f  =[[22.88228186]] Step = 0.05\n",
      "X  =[289.76177257 409.78502854 204.89251431]\n",
      "g/go  = [-6.95469529e-10 -5.10425764e-10 -4.91604667e-10]\n",
      "\n",
      "O valor do Fator de Penalização é de 1e-08\n",
      "Convergence OK!\n",
      "Descent Iteration number 471\n",
      "Line Search Total Iteration number 5053\n",
      "f  =[[22.8821977]] Step = 0.05\n",
      "X  =[290.26513246 410.496887   205.24844371]\n",
      "g/go  = [-7.54711349e-10 -5.36220478e-10 -4.43393128e-10]\n",
      "\n",
      "O valor do Fator de Penalização é de 1e-09\n",
      "Convergence OK!\n",
      "Descent Iteration number 460\n",
      "Line Search Total Iteration number 4942\n",
      "f  =[[22.8745859]] Step = 0.05\n",
      "X  =[295.11817466 417.36012828 208.68006509]\n",
      "g/go  = [-9.72515200e-10 -3.28223282e-11  3.60098625e-10]\n",
      "\n",
      "O valor do Fator de Penalização é de 1e-10\n",
      "Convergence OK!\n",
      "Descent Iteration number 635\n",
      "Line Search Total Iteration number 6461\n",
      "f  =[[22.5051415]] Step = 0.05\n",
      "X  =[332.37662223 470.05153316 235.02576682]\n",
      "g/go  = [-9.31786523e-10  2.34798028e-10  3.03206342e-10]\n",
      "\n",
      "O valor do Fator de Penalização é de 1e-11\n",
      "Convergence OK!\n",
      "Descent Iteration number 729\n",
      "Line Search Total Iteration number 7702\n",
      "f  =[[19.10842997]] Step = 0.05\n",
      "X  =[487.80955874 689.86691346 344.93345567]\n",
      "g/go  = [-9.87305286e-10  1.99116289e-10  1.02240515e-10]\n",
      "\n"
     ]
    }
   ],
   "source": [
    "Minimizadores = []\n",
    "Minimos = []\n",
    "Iterações = []\n",
    "for i in rho_vec:\n",
    "    print('O valor do Fator de Penalização é de ' +str(i))\n",
    "    rho = i\n",
    "    X = QNewton(f_pen,g_pen,x_init,2,0)\n",
    "    Minimizadores.append(X[0])\n",
    "    Minimos.append(X[1][0][0])\n",
    "    Iterações.append(X[3])\n",
    "    print()"
   ]
  },
  {
   "cell_type": "markdown",
   "id": "f3f016cd",
   "metadata": {},
   "source": [
    "#### Mínimos"
   ]
  },
  {
   "cell_type": "code",
   "execution_count": 11,
   "id": "de02c0c4",
   "metadata": {},
   "outputs": [
    {
     "data": {
      "image/png": "[encoded data removed]",
      "text/plain": [
       "<Figure size 432x288 with 1 Axes>"
      ]
     },
     "metadata": {
      "needs_background": "light"
     },
     "output_type": "display_data"
    }
   ],
   "source": [
    "plt.semilogx(rho_vec,np.array(Minimos),'o:')\n",
    "plt.grid()\n",
    "plt.xlabel('Fator de Penalização Externa')\n",
    "plt.ylabel('Mínimos')\n",
    "plt.savefig('Minimos.pdf',format = 'pdf',bbox_inches='tight')"
   ]
  },
  {
   "cell_type": "markdown",
   "id": "adfa7fc4",
   "metadata": {},
   "source": [
    "#### Minimizadores"
   ]
  },
  {
   "cell_type": "code",
   "execution_count": 12,
   "id": "0621ea2a",
   "metadata": {},
   "outputs": [
    {
     "data": {
      "image/png": "[encoded data removed]",
      "text/plain": [
       "<Figure size 432x288 with 1 Axes>"
      ]
     },
     "metadata": {
      "needs_background": "light"
     },
     "output_type": "display_data"
    }
   ],
   "source": [
    "plt.semilogx(rho_vec,np.array(Minimizadores).T[0],'o:', label = 'Área 1')\n",
    "plt.semilogx(rho_vec,np.array(Minimizadores).T[1],'x:', label = 'Área 2')\n",
    "plt.semilogx(rho_vec,np.array(Minimizadores).T[2],'s:', label = 'Área 3')\n",
    "plt.grid()\n",
    "plt.legend()\n",
    "plt.xlabel('Fator de Penalização Externa')\n",
    "plt.ylabel('Minimizadores')\n",
    "plt.savefig('Minimizadores.pdf',format = 'pdf',bbox_inches='tight')"
   ]
  },
  {
   "cell_type": "code",
   "execution_count": 13,
   "id": "e32cd420",
   "metadata": {},
   "outputs": [
    {
     "data": {
      "image/png": "[encoded data removed]",
      "text/plain": [
       "<Figure size 432x288 with 1 Axes>"
      ]
     },
     "metadata": {
      "needs_background": "light"
     },
     "output_type": "display_data"
    }
   ],
   "source": [
    "plt.loglog(rho_vec,np.array(Minimizadores)@np.array([L1,L2,L3])-V_max,'o:')\n",
    "plt.grid()\n",
    "plt.xlabel('Fator de Penalização Externa')\n",
    "plt.ylabel('Módulo da Violação da Restrição')\n",
    "plt.savefig('Penalização.pdf',format = 'pdf',bbox_inches='tight')"
   ]
  },
  {
   "cell_type": "markdown",
   "id": "255f26d8",
   "metadata": {},
   "source": [
    "#### Número de Iterações na direção de descida Necessárias"
   ]
  },
  {
   "cell_type": "code",
   "execution_count": 14,
   "id": "f8ffb0cd",
   "metadata": {},
   "outputs": [
    {
     "data": {
      "image/png": "[encoded data removed]",
      "text/plain": [
       "<Figure size 432x288 with 1 Axes>"
      ]
     },
     "metadata": {
      "needs_background": "light"
     },
     "output_type": "display_data"
    }
   ],
   "source": [
    "plt.loglog(rho_vec,np.array(Iterações),'o:')\n",
    "plt.grid()\n",
    "plt.xlabel('Fator de Penalização Externa')\n",
    "plt.ylabel('Número de Iterações (Direção de Descida)')\n",
    "plt.savefig('Número de Iterações.pdf',format = 'pdf',bbox_inches='tight')"
   ]
  },
  {
   "cell_type": "markdown",
   "id": "8444b4e3",
   "metadata": {},
   "source": [
    "# Formule o problema mediante a técnica de Lagrangeano Aumentado. Implemente as funções que retornam o valor da função Lagrangeana Aumentada e o seu gradiente. Resolva o problema usando alguma das técnicas implementadas para minimização sem restrições, convenientemente adaptada para a técnica de Lagrangeano Aumentado."
   ]
  },
  {
   "cell_type": "markdown",
   "id": "f21e5490",
   "metadata": {},
   "source": [
    "#### Função Lagrangeana Aumentada"
   ]
  },
  {
   "cell_type": "code",
   "execution_count": 15,
   "id": "8fa6d1dc",
   "metadata": {},
   "outputs": [],
   "source": [
    "def f_lag(x):\n",
    "    \n",
    "    \n",
    "    k1 = x[0]*E/(2*L1)\n",
    "    k2 = x[1]*E/L2\n",
    "    k3 = x[2]*E/L3\n",
    "\n",
    "    K = np.array([[k1+k3, -k1  , -k1],[-k1  , k1+k2,  k1], [-k1  , k1   , k1 ]])\n",
    "    U = np.linalg.inv(K)@F\n",
    "\n",
    "    f = 0.5*F.T@U + (Mu[0]*(max(0,(x[0]*L1 + x[1]*L2 + x[2]*L3 - V_max))) + rho/2*(max(0,(x[0]*L1 + x[1]*L2 + x[2]*L3 - V_max))**2)\n",
    "                  +  Mu[1]*max(0,(-x[0]+A_01))                            + rho/2*(max(0,(-x[0]+A_01))**2)\n",
    "                  +  Mu[2]*max(0,(-x[0]+A_01))                            + rho/2*(max(0,(-x[1]+A_02))**2)\n",
    "                  +  Mu[3]*max(0,(-x[0]+A_01))                            + rho/2*(max(0,(-x[2]+A_03))**2))\n",
    "    \n",
    "    return f"
   ]
  },
  {
   "cell_type": "markdown",
   "id": "7e5edf33",
   "metadata": {},
   "source": [
    "#### Gradiente da Função Lagrangeana Aumentada"
   ]
  },
  {
   "cell_type": "code",
   "execution_count": 16,
   "id": "0803117c",
   "metadata": {},
   "outputs": [],
   "source": [
    "def g_lag(x):\n",
    "    \n",
    "    k1 = x[0]*E/(2*L1)\n",
    "    k2 = x[1]*E/L2\n",
    "    k3 = x[2]*E/L3\n",
    "\n",
    "    K = np.array([[k1+k3, -k1  , -k1],[-k1  , k1+k2,  k1], [-k1  , k1   , k1 ]])\n",
    "    U = np.linalg.inv(K)@F\n",
    "\n",
    "    dK1 = E/(2*L1)*np.array([[1, -1  , -1],[-1  , 1,  1], [-1  , 1   , 1 ]])\n",
    "    dK2 = E/L2*np.array([[0,  0  ,  0],[ 0  , 1,  0], [ 0  , 0   , 0 ]])\n",
    "    dK3 = E/L3*np.array([[1,  0  ,  0],[ 0  , 0,  0], [ 0  , 0   , 0 ]])\n",
    "\n",
    "    gf = np.zeros(3)\n",
    "    \n",
    "    S0 = 0\n",
    "    S1 = 0\n",
    "    S2 = 0\n",
    "    \n",
    "    g_in = g_ineq(x)\n",
    "    for j in range(4):\n",
    "        if g_in[j] > -Mu[j]/rho:\n",
    "            S0 = S0 +(Mu[j] + rho*g_in[j])*dg_dA1[j]\n",
    "            S1 = S1 +(Mu[j] + rho*g_in[j])*dg_dA2[j]\n",
    "            S2 = S2 +(Mu[j] + rho*g_in[j])*dg_dA3[j]\n",
    "    \n",
    "    gf[0] = -(dK1@U).T@U + S0\n",
    "                        \n",
    "    gf[1] = -(dK2@U).T@U + S1\n",
    "                               \n",
    "    gf[2] = -(dK3@U).T@U + S2\n",
    "\n",
    "    return gf.T"
   ]
  },
  {
   "cell_type": "markdown",
   "id": "34258dac",
   "metadata": {},
   "source": [
    "#### Funções de Restrição de Desigualdade"
   ]
  },
  {
   "cell_type": "code",
   "execution_count": 17,
   "id": "8198e038",
   "metadata": {},
   "outputs": [],
   "source": [
    "def g_ineq(x):\n",
    "    g_in = np.zeros(4)\n",
    "    g_in[0] = (x[0]*L1 + x[1]*L2 + x[2]*L3 - V_max)\n",
    "    g_in[1] = (-x[0]+A_01)\n",
    "    g_in[2] = (-x[1]+A_02)\n",
    "    g_in[3] = (-x[2]+A_03)\n",
    "    return g_in"
   ]
  },
  {
   "cell_type": "markdown",
   "id": "3bf61414",
   "metadata": {},
   "source": [
    "#### Função de comparação de valores de vetores"
   ]
  },
  {
   "cell_type": "code",
   "execution_count": 18,
   "id": "5a490191",
   "metadata": {},
   "outputs": [],
   "source": [
    "def max_vec(vec):\n",
    "    mx = []\n",
    "    for i in vec:\n",
    "        mx.append(max(0,i))\n",
    "    return np.array(mx)"
   ]
  },
  {
   "cell_type": "markdown",
   "id": "8556eed6",
   "metadata": {},
   "source": [
    "#### Componentes do Gradiente das Restrições de Desigualdade"
   ]
  },
  {
   "cell_type": "code",
   "execution_count": 19,
   "id": "70bdc3ee",
   "metadata": {},
   "outputs": [],
   "source": [
    "dg_dA1 = [L1, -1,  0,  0]\n",
    "dg_dA2 = [L2,  0, -1,  0]\n",
    "dg_dA3 = [L3,  0,  0, -1]"
   ]
  },
  {
   "cell_type": "markdown",
   "id": "7e12fa3a",
   "metadata": {},
   "source": [
    "#### Chutes Iniciais"
   ]
  },
  {
   "cell_type": "code",
   "execution_count": 20,
   "id": "0939373e",
   "metadata": {},
   "outputs": [],
   "source": [
    "x_init = 10**6*np.array([3*10**-4,3*10**-4,3*10**-4])\n",
    "Beta = 2"
   ]
  },
  {
   "cell_type": "markdown",
   "id": "ee6f6290",
   "metadata": {},
   "source": [
    "#### Caso 1"
   ]
  },
  {
   "cell_type": "code",
   "execution_count": 21,
   "id": "bba734fc",
   "metadata": {},
   "outputs": [],
   "source": [
    "rho = 10**-10\n",
    "Mu  = np.array([1,1,1,1])*10**-10"
   ]
  },
  {
   "cell_type": "code",
   "execution_count": 22,
   "id": "c04fdc72",
   "metadata": {},
   "outputs": [
    {
     "name": "stdout",
     "output_type": "stream",
     "text": [
      "0\n",
      "Convergence OK!\n",
      "Descent Iteration number 635\n",
      "Line Search Total Iteration number 6461\n",
      "f  =[[22.50515513]] Step = 0.05\n",
      "X  =[332.3764722  470.05132098 235.02566073]\n",
      "g/go  = [-9.31402525e-10  2.34706088e-10  3.03088367e-10]\n",
      "\n",
      "1\n",
      "Convergence OK!\n",
      "Descent Iteration number 518\n",
      "Line Search Total Iteration number 5595\n",
      "f  =[[23.21457183]] Step = 0.05\n",
      "X  =[295.38414017 417.73625856 208.86812906]\n",
      "g/go  = [-4.79423973e-10 -4.62350783e-11 -1.36197262e-10]\n",
      "\n",
      "2\n",
      "Convergence OK!\n",
      "Descent Iteration number 449\n",
      "Line Search Total Iteration number 4791\n",
      "f  =[[22.91926055]] Step = 0.05\n",
      "X  =[290.19317487 410.39512499 205.19756265]\n",
      "g/go  = [-4.52547722e-10 -1.87571139e-11  4.75400136e-11]\n",
      "\n",
      "3\n",
      "Convergence OK!\n",
      "Descent Iteration number 346\n",
      "Line Search Total Iteration number 3660\n",
      "f  =[[22.88405234]] Step = 0.05\n",
      "X  =[289.72810851 409.73742247 204.86871114]\n",
      "g/go  = [-4.21541316e-10  1.39823209e-10  9.77529238e-11]\n",
      "\n",
      "4\n",
      "Convergence OK!\n",
      "Descent Iteration number 209\n",
      "Line Search Total Iteration number 2078\n",
      "f  =[[22.88232472]] Step = 0.05\n",
      "X  =[289.70615981 409.70637958 204.85318928]\n",
      "g/go  = [-3.68926001e-11 -1.86897192e-10 -4.10479095e-10]\n",
      "\n",
      "5\n",
      "Convergence OK!\n",
      "Descent Iteration number 138\n",
      "Line Search Total Iteration number 1201\n",
      "f  =[[22.88228322]] Step = 0.05\n",
      "X  =[289.7056341  409.70563649 204.85281789]\n",
      "g/go  = [-1.82479531e-10 -2.06025759e-10 -3.60754072e-10]\n",
      "\n",
      "6\n",
      "Convergence OK!\n",
      "Descent Iteration number 58\n",
      "Line Search Total Iteration number 200\n",
      "f  =[[22.88228272]] Step = 0.9799999999999999\n",
      "X  =[289.70562757 409.70562754 204.85281371]\n",
      "g/go  = [-1.32429401e-10 -1.07871760e-10 -1.34815846e-10]\n",
      "\n",
      "Final Convergence!\n",
      "Os Valored de Mu são [2.97869561e-05 1.00000000e-10 1.00000000e-10 1.00000000e-10]\n",
      "O Valor de Rho é = 6.4e-09\n",
      "Os Minimizadores são = [289.70562757 409.70562754 204.85281371]\n"
     ]
    }
   ],
   "source": [
    "it = 1000\n",
    "f_p = f_lag(x_init) \n",
    "for i in range(it):\n",
    "    print(i)\n",
    "    X = QNewton(f_lag,g_lag,x_init,2,0)\n",
    "    Epsilon =  np.abs(g_ineq(X[0])@Mu)\n",
    "    if Epsilon < 10**-3 and (f_p - X[1])/f_p < 10**-6:\n",
    "        print()\n",
    "        print('Final Convergence!')\n",
    "        print('Os Valored de Mu são ' + str (Mu))\n",
    "        print('O Valor de Rho é = ' + str (rho))\n",
    "        print('Os Minimizadores são = ' + str (X[0]))\n",
    "        break\n",
    "    Mu = Mu + rho*max_vec(g_ineq(X[0]))\n",
    "    rho = rho*Beta\n",
    "    f_p = X[1]\n",
    "    print()"
   ]
  },
  {
   "cell_type": "markdown",
   "id": "af4987e4",
   "metadata": {},
   "source": [
    "#### Caso 2"
   ]
  },
  {
   "cell_type": "code",
   "execution_count": 23,
   "id": "55f5b333",
   "metadata": {},
   "outputs": [],
   "source": [
    "rho = 10**-6\n",
    "Mu  = np.array([1,1,1,1])*10**-10"
   ]
  },
  {
   "cell_type": "code",
   "execution_count": 24,
   "id": "4f02f279",
   "metadata": {},
   "outputs": [
    {
     "name": "stdout",
     "output_type": "stream",
     "text": [
      "0\n",
      "Convergence OK!\n",
      "Descent Iteration number 367\n",
      "Line Search Total Iteration number 3734\n",
      "f  =[[22.88228271]] Step = 0.05\n",
      "X  =[289.71124392 409.71357034 204.85678519]\n",
      "g/go  = [-7.17629248e-10 -5.02444149e-10 -4.95420448e-10]\n",
      "\n",
      "1\n",
      "Convergence OK!\n",
      "Descent Iteration number 148\n",
      "Line Search Total Iteration number 1357\n",
      "f  =[[22.88228273]] Step = 0.05\n",
      "X  =[289.7056276  409.70562762 204.85281383]\n",
      "g/go  = [-3.06562234e-10 -2.23179968e-10 -2.15075832e-10]\n",
      "\n",
      "Final Convergence!\n",
      "Os Valored de Mu são [2.97858023e-05 1.00000000e-10 1.00000000e-10 1.00000000e-10]\n",
      "O Valor de Rho é = 2e-06\n",
      "Os Minimizadores são = [289.7056276  409.70562762 204.85281383]\n"
     ]
    }
   ],
   "source": [
    "it = 1000\n",
    "f_p = f_lag(x_init) \n",
    "for i in range(it):\n",
    "    print(i)\n",
    "    X = QNewton(f_lag,g_lag,x_init,2,0)\n",
    "    Epsilon =  np.abs(g_ineq(X[0])@Mu)\n",
    "    if Epsilon < 10**-3 and (f_p - X[1])/f_p < 10**-6:\n",
    "        print()\n",
    "        print('Final Convergence!')\n",
    "        print('Os Valored de Mu são ' + str (Mu))\n",
    "        print('O Valor de Rho é = ' + str (rho))\n",
    "        print('Os Minimizadores são = ' + str (X[0]))\n",
    "        break\n",
    "    Mu = Mu + rho*max_vec(g_ineq(X[0]))\n",
    "    rho = rho*Beta\n",
    "    f_p = X[1]\n",
    "    print()"
   ]
  },
  {
   "cell_type": "markdown",
   "id": "a6a89076",
   "metadata": {},
   "source": [
    "#### Caso 3"
   ]
  },
  {
   "cell_type": "code",
   "execution_count": 25,
   "id": "b876d303",
   "metadata": {},
   "outputs": [],
   "source": [
    "rho = 10**-9\n",
    "Mu  = np.array([1,1,1,1])*10**-7"
   ]
  },
  {
   "cell_type": "code",
   "execution_count": 26,
   "id": "2161d599",
   "metadata": {},
   "outputs": [
    {
     "name": "stdout",
     "output_type": "stream",
     "text": [
      "0\n",
      "Convergence OK!\n",
      "Descent Iteration number 427\n",
      "Line Search Total Iteration number 4465\n",
      "f  =[[22.876067]] Step = 0.05\n",
      "X  =[295.09998539 417.3344059  208.66720344]\n",
      "g/go  = [-8.42103887e-10  2.91631441e-10  4.96037364e-10]\n",
      "\n",
      "1\n",
      "Convergence OK!\n",
      "Descent Iteration number 348\n",
      "Line Search Total Iteration number 3654\n",
      "f  =[[22.88987707]] Step = 0.05\n",
      "X  =[289.80542777 409.84676426 204.92338217]\n",
      "g/go  = [ 2.98754049e-10 -2.53633489e-10 -2.35394773e-10]\n",
      "\n",
      "2\n",
      "Convergence OK!\n",
      "Descent Iteration number 208\n",
      "Line Search Total Iteration number 2111\n",
      "f  =[[22.88235831]] Step = 0.05\n",
      "X  =[289.70658522 409.70698212 204.85349045]\n",
      "g/go  = [-2.02378156e-10 -1.01477646e-10 -3.70477149e-10]\n",
      "\n",
      "3\n",
      "Convergence OK!\n",
      "Descent Iteration number 135\n",
      "Line Search Total Iteration number 1091\n",
      "f  =[[22.88228308]] Step = 0.05\n",
      "X  =[289.70563207 409.70563407 204.85281701]\n",
      "g/go  = [-3.19534413e-10 -2.03878574e-10 -2.16618543e-10]\n",
      "\n",
      "4\n",
      "Convergence OK!\n",
      "Descent Iteration number 48\n",
      "Line Search Total Iteration number 143\n",
      "f  =[[22.88228272]] Step = 0.9799999999999999\n",
      "X  =[289.70562749 409.7056275  204.85281377]\n",
      "g/go  = [-1.19334362e-10 -8.17177992e-11 -7.33103370e-11]\n",
      "\n",
      "Final Convergence!\n",
      "Os Valored de Mu são [2.97869564e-05 1.00000000e-07 1.00000000e-07 1.00000000e-07]\n",
      "O Valor de Rho é = 1.6e-08\n",
      "Os Minimizadores são = [289.70562749 409.7056275  204.85281377]\n"
     ]
    }
   ],
   "source": [
    "it = 1000\n",
    "f_p = f_lag(x_init) \n",
    "for i in range(it):\n",
    "    print(i)\n",
    "    X = QNewton(f_lag,g_lag,x_init,2,0)\n",
    "    Epsilon =  np.abs(g_ineq(X[0])@Mu)\n",
    "    if Epsilon < 10**-3 and (f_p - X[1])/f_p < 10**-6:\n",
    "        print()\n",
    "        print('Final Convergence!')\n",
    "        print('Os Valored de Mu são ' + str (Mu))\n",
    "        print('O Valor de Rho é = ' + str (rho))\n",
    "        print('Os Minimizadores são = ' + str (X[0]))\n",
    "        break\n",
    "    Mu = Mu + rho*max_vec(g_ineq(X[0]))\n",
    "    rho = rho*Beta\n",
    "    f_p = X[1]\n",
    "    print()"
   ]
  }
 ],
 "metadata": {
  "kernelspec": {
   "display_name": "Python 3",
   "language": "python",
   "name": "python3"
  },
  "language_info": {
   "codemirror_mode": {
    "name": "ipython",
    "version": 3
   },
   "file_extension": ".py",
   "mimetype": "text/x-python",
   "name": "python",
   "nbconvert_exporter": "python",
   "pygments_lexer": "ipython3",
   "version": "3.9.13"
  }
 },
 "nbformat": 4,
 "nbformat_minor": 5
}
